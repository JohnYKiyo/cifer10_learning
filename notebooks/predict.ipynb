{
 "cells": [
  {
   "cell_type": "code",
   "execution_count": 1,
   "metadata": {},
   "outputs": [
    {
     "name": "stderr",
     "output_type": "stream",
     "text": [
      "/Users/ykiyo/workspace/cifer10_learning/predict/predictor.py:13: FutureWarning: You are using `torch.load` with `weights_only=False` (the current default value), which uses the default pickle module implicitly. It is possible to construct malicious pickle data which will execute arbitrary code during unpickling (See https://github.com/pytorch/pytorch/blob/main/SECURITY.md#untrusted-models for more details). In a future release, the default value for `weights_only` will be flipped to `True`. This limits the functions that could be executed during unpickling. Arbitrary objects will no longer be allowed to be loaded via this mode unless they are explicitly allowlisted by the user via `torch.serialization.add_safe_globals`. We recommend you start setting `weights_only=True` for any use case where you don't have full control of the loaded file. Please open an issue on GitHub for any issues related to this experimental feature.\n",
      "  torch.load(model_path, map_location=self.device)[\"model_state_dict\"]\n"
     ]
    },
    {
     "name": "stdout",
     "output_type": "stream",
     "text": [
      "Model loaded successfully.\n",
      "Files already downloaded and verified\n",
      "torch.Size([1, 3, 32, 32])\n"
     ]
    },
    {
     "data": {
      "image/png": "[encoded data removed]",
      "text/plain": [
       "<Figure size 640x480 with 1 Axes>"
      ]
     },
     "metadata": {},
     "output_type": "display_data"
    },
    {
     "name": "stdout",
     "output_type": "stream",
     "text": [
      "Predicted class, label: 3,cat\n",
      "True class, label: 3, cat\n"
     ]
    }
   ],
   "source": [
    "# 必要なモジュールのインポート\n",
    "import sys\n",
    "import os\n",
    "\n",
    "# プロジェクトルートを PYTHONPATH に追加\n",
    "project_root = os.path.abspath(os.path.join(os.getcwd(), \"..\"))\n",
    "if project_root not in sys.path:\n",
    "    sys.path.append(project_root)\n",
    "\n",
    "import torch\n",
    "from torchvision import datasets, transforms\n",
    "import matplotlib.pyplot as plt\n",
    "from predict.predictor import Predictor\n",
    "from predict.preprocess import preprocess_image\n",
    "from data.dataloader import get_cifer10_testloader\n",
    "\n",
    "# モデルのロード\n",
    "model_path = os.path.join(project_root, \"checkpoints/checkpoint.pt\")\n",
    "predictor = Predictor(model_path=model_path)\n",
    "print(\"Model loaded successfully.\")\n",
    "\n",
    "# CIFAR-10 クラスラベル\n",
    "CIFAR10_CLASSES = [\n",
    "    \"airplane\", \"automobile\", \"bird\", \"cat\", \"deer\",\n",
    "    \"dog\", \"frog\", \"horse\", \"ship\", \"truck\"\n",
    "]\n",
    "\n",
    "dataloader = get_cifer10_testloader(batch=1, num_workers=0)\n",
    "\n",
    "# サンプル画像を取得\n",
    "sampleindex = 0\n",
    "data_iter = iter(dataloader)  # データローダーからイテレータを作成\n",
    "images, labels = next(data_iter)  # 最初のバッチを取得\n",
    "image, label = images[sampleindex], labels[sampleindex]  # バッチから1つの画像とラベルを取得\n",
    "# 推論\n",
    "predicted_class = predictor.predict(image)\n",
    "predicted_label = CIFAR10_CLASSES[predicted_class]\n",
    "\n",
    "# 入力画像の表示\n",
    "plt.imshow(image.permute(1, 2, 0))  # (C, H, W) -> (H, W, C) に変換して表示\n",
    "plt.axis(\"off\")\n",
    "plt.title(f\"True Label: {CIFAR10_CLASSES[label]}\")\n",
    "plt.show()\n",
    "\n",
    "# 推論結果の表示\n",
    "print(f\"Predicted class, label: {predicted_class},{predicted_label}\")\n",
    "print(f\"True class, label: {label}, {CIFAR10_CLASSES[label]}\")"
   ]
  }
 ],
 "metadata": {
  "kernelspec": {
   "display_name": ".venv",
   "language": "python",
   "name": "python3"
  },
  "language_info": {
   "codemirror_mode": {
    "name": "ipython",
    "version": 3
   },
   "file_extension": ".py",
   "mimetype": "text/x-python",
   "name": "python",
   "nbconvert_exporter": "python",
   "pygments_lexer": "ipython3",
   "version": "3.12.0"
  }
 },
 "nbformat": 4,
 "nbformat_minor": 2
}
